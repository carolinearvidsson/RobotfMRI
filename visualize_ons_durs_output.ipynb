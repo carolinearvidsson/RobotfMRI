{
 "cells": [
  {
   "cell_type": "markdown",
   "metadata": {},
   "source": [
    "Saving ons durs events for visualization"
   ]
  },
  {
   "cell_type": "code",
   "execution_count": 24,
   "metadata": {},
   "outputs": [],
   "source": [
    "import pickle\n",
    "from itertools import repeat\n",
    "import csv\n",
    "\n",
    "a_file = open(\"pickles/onsdurs_collapsed_cropped.pkl\", \"rb\") #read the onsdurs file into a dictionary\n",
    "onsdurs = pickle.load(a_file)"
   ]
  },
  {
   "cell_type": "code",
   "execution_count": 20,
   "metadata": {},
   "outputs": [],
   "source": [
    "subj1_01 = onsdurs['subj-08_1'] #let's take just 1 run of 1 subject"
   ]
  },
  {
   "cell_type": "code",
   "execution_count": 21,
   "metadata": {},
   "outputs": [],
   "source": [
    "# get onsets durations and name for each event\n",
    "onsets = [i for i in subj1_01['onsets']]\n",
    "names = [i for i in subj1_01['names']]\n",
    "durations = [i for i in subj1_01['durations']]\n",
    "\n",
    "len_onsets = []\n",
    "for i in onsets:\n",
    "    len_onsets.append(len(i))\n",
    "\n",
    "names_ext = []\n",
    "for ind,i in enumerate(names):\n",
    "    names_ext.extend(repeat(i, len_onsets[ind]))\n",
    "\n",
    "#get onsets and endtimes sorted in time order\n",
    "onsets_flat = [x for xs in subj1_01['onsets'] for x in xs]\n",
    "durations_flat = [x for xs in subj1_01['durations'] for x in xs]\n",
    "end_times = [a + b for a, b in zip(onsets_flat, durations_flat)]\n",
    "onsets_endtimes = []\n",
    "onsets_endtimes.extend([list(a) for a in zip(onsets_flat, end_times, names_ext)])\n",
    "onsets_endtimes = sorted(onsets_endtimes, key=lambda x: x[0])"
   ]
  },
  {
   "cell_type": "code",
   "execution_count": 22,
   "metadata": {},
   "outputs": [],
   "source": [
    "#get the conv onset\n",
    "cross_and_instr = onsets_endtimes[0:3]\n",
    "conv_onset = cross_and_instr[2][1]\n",
    "\n",
    "for i in onsets_endtimes[3:]:\n",
    "    i[0] -= conv_onset\n",
    "    i[1] -= conv_onset\n",
    "\n",
    "\n",
    "onsets_endtimes_conv_onset = onsets_endtimes[3:]"
   ]
  },
  {
   "cell_type": "code",
   "execution_count": 23,
   "metadata": {},
   "outputs": [],
   "source": [
    "#save each event type in a separate csv file \n",
    "for ind,name in enumerate(names):\n",
    "    events = []\n",
    "    for event in onsets_endtimes_conv_onset:\n",
    "        if name in event:\n",
    "            events.append(event)\n",
    "            filename = 'csvfiles/ovrl/subj3_01_event_' + str(name) + '.csv'\n",
    "            with open(filename, 'w', newline='') as csvfile:\n",
    "                writer = csv.writer(csvfile)\n",
    "                writer.writerows(events)"
   ]
  }
 ],
 "metadata": {
  "kernelspec": {
   "display_name": "Python 3.9.1 64-bit",
   "language": "python",
   "name": "python3"
  },
  "language_info": {
   "codemirror_mode": {
    "name": "ipython",
    "version": 3
   },
   "file_extension": ".py",
   "mimetype": "text/x-python",
   "name": "python",
   "nbconvert_exporter": "python",
   "pygments_lexer": "ipython3",
   "version": "3.9.1"
  },
  "orig_nbformat": 4,
  "vscode": {
   "interpreter": {
    "hash": "aee8b7b246df8f9039afb4144a1f6fd8d2ca17a180786b69acc140d282b71a49"
   }
  }
 },
 "nbformat": 4,
 "nbformat_minor": 2
}
