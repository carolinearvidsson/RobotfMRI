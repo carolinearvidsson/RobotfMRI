{
 "cells": [
  {
   "cell_type": "code",
   "execution_count": null,
   "metadata": {},
   "outputs": [],
   "source": [
    "import pickle\n",
    "import re\n",
    "\n",
    "class NonOverlappingModel:\n",
    "\n",
    "    def __init__(self):\n",
    "\n",
    "        a_file = open(\"onsdurs_collapsed_cropped.pkl\", \"rb\") #read the onsdurs file into a dictionary\n",
    "        onsdurs = pickle.load(a_file)\n",
    "        onsdurs_sorted = self.get_event_times_in_prioritized_order(onsdurs)\n",
    "        self.prioritize_events(onsdurs_sorted)\n",
    "\n",
    "    def endtime(self, onset, duration):\n",
    "        return onset + duration\n",
    "\n",
    "    def get_event_times_in_prioritized_order(self, onsdurs):\n",
    "        prioritized_order = ['^TI*', '^PROD*', '^COMP*', '^SILENCE*']\n",
    "        onsdurs_sorted = {}\n",
    "        for subj_run in onsdurs:\n",
    "            events = {}\n",
    "            names, ons, durs = onsdurs[subj_run].get('names'), onsdurs[subj_run].get('onsets'), onsdurs[subj_run].get('durations')\n",
    "            for event in prioritized_order:\n",
    "                for name in names:\n",
    "                    \n",
    "                    if name == 'INSTR' or name == 'ISI':\n",
    "                        continue\n",
    "                    else:\n",
    "                        name = ''.join(name)\n",
    "                        if re.compile(event).match(name): # Check if the current name is the prioritized event\n",
    "                        #for o, d in zip(ons[names.index([name])], durs[names.index([name])]):\n",
    "                            event_times = [(o, self.endtime(o,d)) for o, d in zip(ons[names.index([name])], durs[names.index([name])])]\n",
    "                            events[name] = event_times\n",
    "            onsdurs_sorted.setdefault(subj_run, events)\n",
    "        return onsdurs_sorted\n",
    "\n",
    "    def prioritize_events(self, onsdurs_sorted):\n",
    "        for subjrun in onsdurs_sorted:\n",
    "            events = list(onsdurs_sorted[subjrun].keys())\n",
    "            for current_event_index, event in enumerate(events):\n",
    "                less_prioritized_events = events[current_event_index +1:]\n",
    "                if len(less_prioritized_events) > 0:\n",
    "                    print(less_prioritized_events, event)\n",
    "                    for event_times in onsdurs_sorted[subjrun][event]:\n",
    "                        event_start, event_end = event_times[0], event_times[1]\n",
    "                        for lp_event in less_prioritized_events:\n",
    "                            for lp_event_times in onsdurs_sorted[subjrun][lp_event]:\n",
    "                                lp_event_start, lp_event_end = lp_event_times[0], lp_event_times[1]\n",
    "                                \n",
    "                                print('event ', event_start, event_end)\n",
    "                                print('lp event ', lp_event_start, lp_event_end)\n",
    "                                self.remove_overlap(event_start, event_end, lp_event_start, lp_event_end)\n",
    "\n",
    "\n",
    "    def remove_overlap(self, e_start, e_end, lpe_start, lpe_end):\n",
    "        if e_start < lpe_start < e_end and e_end < lpe_end:\n",
    "            return [(e_end, lpe_end)]\n",
    "        elif lpe_start < e_start < lpe_end and lpe_end < e_end:\n",
    "            return [(lpe_start, e_start)]\n",
    "        elif e_start < lpe_start and lpe_end < e_end:\n",
    "            return []\n",
    "        elif lpe_start < e_start and e_end < lpe_end:\n",
    "            return [(lpe_start, e_start), (e_end, lpe_end)]\n",
    "\n",
    "\n",
    "\n",
    "m = NonOverlappingModel()"
   ]
  }
 ],
 "metadata": {
  "kernelspec": {
   "display_name": "Python 3.9.1 64-bit",
   "language": "python",
   "name": "python3"
  },
  "language_info": {
   "name": "python",
   "version": "3.9.1"
  },
  "orig_nbformat": 4,
  "vscode": {
   "interpreter": {
    "hash": "aee8b7b246df8f9039afb4144a1f6fd8d2ca17a180786b69acc140d282b71a49"
   }
  }
 },
 "nbformat": 4,
 "nbformat_minor": 2
}
