{
 "cells": [
  {
   "cell_type": "code",
   "execution_count": 16,
   "metadata": {},
   "outputs": [],
   "source": [
    "def endtime(onset, duration):\n",
    "        return onset + duration"
   ]
  },
  {
   "cell_type": "code",
   "execution_count": 17,
   "metadata": {},
   "outputs": [],
   "source": [
    "def remove_overlap(e_start, e_end, lpe_start, lpe_end):\n",
    "    '''Removes overlaps of less prioritized events and create new \n",
    "    that do not overlap with the prioritized event'''\n",
    "    if e_start < lpe_start < e_end and e_end < lpe_end:\n",
    "        print([(e_end, lpe_end)])\n",
    "        return [(e_end, lpe_end)]\n",
    "    elif lpe_start < e_start < lpe_end and lpe_end < e_end:\n",
    "        print([(lpe_start, e_start)])\n",
    "        return [(lpe_start, e_start)]\n",
    "    elif e_start < lpe_start and lpe_end < e_end:\n",
    "        print([])\n",
    "        return []\n",
    "    elif lpe_start < e_start and e_end < lpe_end:\n",
    "        print([(lpe_start, e_start), (e_end, lpe_end)])\n",
    "        return [(lpe_start, e_start), (e_end, lpe_end)]\n",
    "    else: print('hi')"
   ]
  },
  {
   "cell_type": "code",
   "execution_count": 18,
   "metadata": {},
   "outputs": [],
   "source": [
    "def prioritize_events(onsdurs_sorted):\n",
    "    for subjrun in onsdurs_sorted:\n",
    "        events = list(onsdurs_sorted[subjrun].keys())\n",
    "        for current_event_index, event in enumerate(events):\n",
    "            less_prioritized_events = events[current_event_index +1:]\n",
    "            if len(less_prioritized_events) > 0:\n",
    "                print(less_prioritized_events, event)\n",
    "                for event_times in onsdurs_sorted[subjrun][event]:\n",
    "                    event_start, event_end = event_times[0], event_times[1]\n",
    "                    for lp_event in less_prioritized_events:\n",
    "                        for lp_event_times in onsdurs_sorted[subjrun][lp_event]:\n",
    "                            lp_event_start, lp_event_end = lp_event_times[0], lp_event_times[1]\n",
    "                            \n",
    "                            print('event ', event_start, event_end)\n",
    "                            print('lp event ', lp_event_start, lp_event_end)\n",
    "                            remove_overlap(event_start, event_end, lp_event_start, lp_event_end)"
   ]
  },
  {
   "cell_type": "code",
   "execution_count": 19,
   "metadata": {},
   "outputs": [],
   "source": [
    "def get_event_times_in_prioritized_order(onsdurs):\n",
    "    prioritized_order = ['^TI*', '^PROD*', '^COMP*', '^SILENCE*']\n",
    "    onsdurs_sorted = {}\n",
    "    for subj_run in onsdurs:\n",
    "        events = {}\n",
    "        names, ons, durs = onsdurs[subj_run].get('names'), onsdurs[subj_run].get('onsets'), onsdurs[subj_run].get('durations')\n",
    "        for event in prioritized_order:\n",
    "            for name in names:\n",
    "                \n",
    "                if name == 'INSTR' or name == 'ISI':\n",
    "                    continue\n",
    "                else:\n",
    "                    name = ''.join(name)\n",
    "                    if re.compile(event).match(name): # Check if the current name is the prioritized event\n",
    "                    #for o, d in zip(ons[names.index([name])], durs[names.index([name])]):\n",
    "                        event_times = [(o, endtime(o,d)) for o, d in zip(ons[names.index([name])], durs[names.index([name])])]\n",
    "                        events[name] = event_times\n",
    "        onsdurs_sorted.setdefault(subj_run, events)\n",
    "    return onsdurs_sorted"
   ]
  },
  {
   "cell_type": "code",
   "execution_count": 20,
   "metadata": {},
   "outputs": [
    {
     "ename": "NameError",
     "evalue": "name 'self' is not defined",
     "output_type": "error",
     "traceback": [
      "\u001b[0;31m---------------------------------------------------------------------------\u001b[0m",
      "\u001b[0;31mNameError\u001b[0m                                 Traceback (most recent call last)",
      "\u001b[1;32m/Users/carolinearvidsson/Desktop/MasterYearOne/VT22/Thesis/Scripts/get_data_from_transcriptions/Github/test.ipynb Cell 5\u001b[0m in \u001b[0;36m<cell line: 6>\u001b[0;34m()\u001b[0m\n\u001b[1;32m      <a href='vscode-notebook-cell:/Users/carolinearvidsson/Desktop/MasterYearOne/VT22/Thesis/Scripts/get_data_from_transcriptions/Github/test.ipynb#ch0000004?line=3'>4</a>\u001b[0m a_file \u001b[39m=\u001b[39m \u001b[39mopen\u001b[39m(\u001b[39m\"\u001b[39m\u001b[39monsdurs_collapsed_cropped.pkl\u001b[39m\u001b[39m\"\u001b[39m, \u001b[39m\"\u001b[39m\u001b[39mrb\u001b[39m\u001b[39m\"\u001b[39m) \u001b[39m#read the onsdurs file into a dictionary\u001b[39;00m\n\u001b[1;32m      <a href='vscode-notebook-cell:/Users/carolinearvidsson/Desktop/MasterYearOne/VT22/Thesis/Scripts/get_data_from_transcriptions/Github/test.ipynb#ch0000004?line=4'>5</a>\u001b[0m onsdurs \u001b[39m=\u001b[39m pickle\u001b[39m.\u001b[39mload(a_file)\n\u001b[0;32m----> <a href='vscode-notebook-cell:/Users/carolinearvidsson/Desktop/MasterYearOne/VT22/Thesis/Scripts/get_data_from_transcriptions/Github/test.ipynb#ch0000004?line=5'>6</a>\u001b[0m onsdurs_sorted \u001b[39m=\u001b[39m get_event_times_in_prioritized_order(onsdurs)\n\u001b[1;32m      <a href='vscode-notebook-cell:/Users/carolinearvidsson/Desktop/MasterYearOne/VT22/Thesis/Scripts/get_data_from_transcriptions/Github/test.ipynb#ch0000004?line=6'>7</a>\u001b[0m prioritize_events(onsdurs_sorted)\n",
      "\u001b[1;32m/Users/carolinearvidsson/Desktop/MasterYearOne/VT22/Thesis/Scripts/get_data_from_transcriptions/Github/test.ipynb Cell 5\u001b[0m in \u001b[0;36mget_event_times_in_prioritized_order\u001b[0;34m(onsdurs)\u001b[0m\n\u001b[1;32m     <a href='vscode-notebook-cell:/Users/carolinearvidsson/Desktop/MasterYearOne/VT22/Thesis/Scripts/get_data_from_transcriptions/Github/test.ipynb#ch0000004?line=12'>13</a>\u001b[0m             name \u001b[39m=\u001b[39m \u001b[39m'\u001b[39m\u001b[39m'\u001b[39m\u001b[39m.\u001b[39mjoin(name)\n\u001b[1;32m     <a href='vscode-notebook-cell:/Users/carolinearvidsson/Desktop/MasterYearOne/VT22/Thesis/Scripts/get_data_from_transcriptions/Github/test.ipynb#ch0000004?line=13'>14</a>\u001b[0m             \u001b[39mif\u001b[39;00m re\u001b[39m.\u001b[39mcompile(event)\u001b[39m.\u001b[39mmatch(name): \u001b[39m# Check if the current name is the prioritized event\u001b[39;00m\n\u001b[1;32m     <a href='vscode-notebook-cell:/Users/carolinearvidsson/Desktop/MasterYearOne/VT22/Thesis/Scripts/get_data_from_transcriptions/Github/test.ipynb#ch0000004?line=14'>15</a>\u001b[0m             \u001b[39m#for o, d in zip(ons[names.index([name])], durs[names.index([name])]):\u001b[39;00m\n\u001b[0;32m---> <a href='vscode-notebook-cell:/Users/carolinearvidsson/Desktop/MasterYearOne/VT22/Thesis/Scripts/get_data_from_transcriptions/Github/test.ipynb#ch0000004?line=15'>16</a>\u001b[0m                 event_times \u001b[39m=\u001b[39m [(o, \u001b[39mself\u001b[39m\u001b[39m.\u001b[39mendtime(o,d)) \u001b[39mfor\u001b[39;00m o, d \u001b[39min\u001b[39;00m \u001b[39mzip\u001b[39m(ons[names\u001b[39m.\u001b[39mindex([name])], durs[names\u001b[39m.\u001b[39mindex([name])])]\n\u001b[1;32m     <a href='vscode-notebook-cell:/Users/carolinearvidsson/Desktop/MasterYearOne/VT22/Thesis/Scripts/get_data_from_transcriptions/Github/test.ipynb#ch0000004?line=16'>17</a>\u001b[0m                 events[name] \u001b[39m=\u001b[39m event_times\n\u001b[1;32m     <a href='vscode-notebook-cell:/Users/carolinearvidsson/Desktop/MasterYearOne/VT22/Thesis/Scripts/get_data_from_transcriptions/Github/test.ipynb#ch0000004?line=17'>18</a>\u001b[0m onsdurs_sorted\u001b[39m.\u001b[39msetdefault(subj_run, events)\n",
      "\u001b[1;32m/Users/carolinearvidsson/Desktop/MasterYearOne/VT22/Thesis/Scripts/get_data_from_transcriptions/Github/test.ipynb Cell 5\u001b[0m in \u001b[0;36m<listcomp>\u001b[0;34m(.0)\u001b[0m\n\u001b[1;32m     <a href='vscode-notebook-cell:/Users/carolinearvidsson/Desktop/MasterYearOne/VT22/Thesis/Scripts/get_data_from_transcriptions/Github/test.ipynb#ch0000004?line=12'>13</a>\u001b[0m             name \u001b[39m=\u001b[39m \u001b[39m'\u001b[39m\u001b[39m'\u001b[39m\u001b[39m.\u001b[39mjoin(name)\n\u001b[1;32m     <a href='vscode-notebook-cell:/Users/carolinearvidsson/Desktop/MasterYearOne/VT22/Thesis/Scripts/get_data_from_transcriptions/Github/test.ipynb#ch0000004?line=13'>14</a>\u001b[0m             \u001b[39mif\u001b[39;00m re\u001b[39m.\u001b[39mcompile(event)\u001b[39m.\u001b[39mmatch(name): \u001b[39m# Check if the current name is the prioritized event\u001b[39;00m\n\u001b[1;32m     <a href='vscode-notebook-cell:/Users/carolinearvidsson/Desktop/MasterYearOne/VT22/Thesis/Scripts/get_data_from_transcriptions/Github/test.ipynb#ch0000004?line=14'>15</a>\u001b[0m             \u001b[39m#for o, d in zip(ons[names.index([name])], durs[names.index([name])]):\u001b[39;00m\n\u001b[0;32m---> <a href='vscode-notebook-cell:/Users/carolinearvidsson/Desktop/MasterYearOne/VT22/Thesis/Scripts/get_data_from_transcriptions/Github/test.ipynb#ch0000004?line=15'>16</a>\u001b[0m                 event_times \u001b[39m=\u001b[39m [(o, \u001b[39mself\u001b[39;49m\u001b[39m.\u001b[39mendtime(o,d)) \u001b[39mfor\u001b[39;00m o, d \u001b[39min\u001b[39;00m \u001b[39mzip\u001b[39m(ons[names\u001b[39m.\u001b[39mindex([name])], durs[names\u001b[39m.\u001b[39mindex([name])])]\n\u001b[1;32m     <a href='vscode-notebook-cell:/Users/carolinearvidsson/Desktop/MasterYearOne/VT22/Thesis/Scripts/get_data_from_transcriptions/Github/test.ipynb#ch0000004?line=16'>17</a>\u001b[0m                 events[name] \u001b[39m=\u001b[39m event_times\n\u001b[1;32m     <a href='vscode-notebook-cell:/Users/carolinearvidsson/Desktop/MasterYearOne/VT22/Thesis/Scripts/get_data_from_transcriptions/Github/test.ipynb#ch0000004?line=17'>18</a>\u001b[0m onsdurs_sorted\u001b[39m.\u001b[39msetdefault(subj_run, events)\n",
      "\u001b[0;31mNameError\u001b[0m: name 'self' is not defined"
     ]
    }
   ],
   "source": [
    "import pickle\n",
    "import re\n",
    "\n",
    "a_file = open(\"onsdurs_collapsed_cropped.pkl\", \"rb\") #read the onsdurs file into a dictionary\n",
    "onsdurs = pickle.load(a_file)\n",
    "onsdurs_sorted = get_event_times_in_prioritized_order(onsdurs)\n",
    "prioritize_events(onsdurs_sorted)"
   ]
  }
 ],
 "metadata": {
  "kernelspec": {
   "display_name": "Python 3.9.1 64-bit",
   "language": "python",
   "name": "python3"
  },
  "language_info": {
   "codemirror_mode": {
    "name": "ipython",
    "version": 3
   },
   "file_extension": ".py",
   "mimetype": "text/x-python",
   "name": "python",
   "nbconvert_exporter": "python",
   "pygments_lexer": "ipython3",
   "version": "3.9.1"
  },
  "orig_nbformat": 4,
  "vscode": {
   "interpreter": {
    "hash": "aee8b7b246df8f9039afb4144a1f6fd8d2ca17a180786b69acc140d282b71a49"
   }
  }
 },
 "nbformat": 4,
 "nbformat_minor": 2
}
